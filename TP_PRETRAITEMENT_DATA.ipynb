{
  "nbformat": 4,
  "nbformat_minor": 0,
  "metadata": {
    "colab": {
      "provenance": [],
      "authorship_tag": "ABX9TyNbMWAoE1VDmsHbOcnk9NJJ",
      "include_colab_link": true
    },
    "kernelspec": {
      "name": "python3",
      "display_name": "Python 3"
    },
    "language_info": {
      "name": "python"
    }
  },
  "cells": [
    {
      "cell_type": "markdown",
      "metadata": {
        "id": "view-in-github",
        "colab_type": "text"
      },
      "source": [
        "<a href=\"https://colab.research.google.com/github/benjaminmugangu/TP1_IA/blob/main/TP_PRETRAITEMENT_DATA.ipynb\" target=\"_parent\"><img src=\"https://colab.research.google.com/assets/colab-badge.svg\" alt=\"Open In Colab\"/></a>"
      ]
    },
    {
      "cell_type": "markdown",
      "source": [
        "# OPÉRATION 1 : NETTOYAGE DES DONNÉES"
      ],
      "metadata": {
        "id": "jFD9iX9HNspc"
      }
    },
    {
      "cell_type": "markdown",
      "source": [
        "## Détection des valeurs manquantes"
      ],
      "metadata": {
        "id": "mOA_clwzOBuU"
      }
    },
    {
      "cell_type": "code",
      "execution_count": null,
      "metadata": {
        "colab": {
          "base_uri": "https://localhost:8080/",
          "height": 223
        },
        "id": "CE2R22jkM0ul",
        "outputId": "237ac59f-9b4f-4b5a-cf03-555b242340c9"
      },
      "outputs": [
        {
          "output_type": "execute_result",
          "data": {
            "text/plain": [
              "  Building Type  Square Footage  Number of Occupants  Appliances Used  \\\n",
              "0   Residential           24563                   15                4   \n",
              "1    Commercial           27583                   56               23   \n",
              "2    Commercial           45313                    4               44   \n",
              "3   Residential           41625                   84               17   \n",
              "4   Residential           36720                   58               47   \n",
              "\n",
              "   Average Temperature Day of Week  Energy Consumption  \n",
              "0                28.52     Weekday             2865.57  \n",
              "1                23.07     Weekend             4283.80  \n",
              "2                33.56     Weekday             5067.83  \n",
              "3                27.39     Weekend             4624.30  \n",
              "4                17.08     Weekday             4820.59  "
            ],
            "text/html": [
              "\n",
              "  <div id=\"df-31b2dd24-4411-4f7a-b4fa-6875f7559692\" class=\"colab-df-container\">\n",
              "    <div>\n",
              "<style scoped>\n",
              "    .dataframe tbody tr th:only-of-type {\n",
              "        vertical-align: middle;\n",
              "    }\n",
              "\n",
              "    .dataframe tbody tr th {\n",
              "        vertical-align: top;\n",
              "    }\n",
              "\n",
              "    .dataframe thead th {\n",
              "        text-align: right;\n",
              "    }\n",
              "</style>\n",
              "<table border=\"1\" class=\"dataframe\">\n",
              "  <thead>\n",
              "    <tr style=\"text-align: right;\">\n",
              "      <th></th>\n",
              "      <th>Building Type</th>\n",
              "      <th>Square Footage</th>\n",
              "      <th>Number of Occupants</th>\n",
              "      <th>Appliances Used</th>\n",
              "      <th>Average Temperature</th>\n",
              "      <th>Day of Week</th>\n",
              "      <th>Energy Consumption</th>\n",
              "    </tr>\n",
              "  </thead>\n",
              "  <tbody>\n",
              "    <tr>\n",
              "      <th>0</th>\n",
              "      <td>Residential</td>\n",
              "      <td>24563</td>\n",
              "      <td>15</td>\n",
              "      <td>4</td>\n",
              "      <td>28.52</td>\n",
              "      <td>Weekday</td>\n",
              "      <td>2865.57</td>\n",
              "    </tr>\n",
              "    <tr>\n",
              "      <th>1</th>\n",
              "      <td>Commercial</td>\n",
              "      <td>27583</td>\n",
              "      <td>56</td>\n",
              "      <td>23</td>\n",
              "      <td>23.07</td>\n",
              "      <td>Weekend</td>\n",
              "      <td>4283.80</td>\n",
              "    </tr>\n",
              "    <tr>\n",
              "      <th>2</th>\n",
              "      <td>Commercial</td>\n",
              "      <td>45313</td>\n",
              "      <td>4</td>\n",
              "      <td>44</td>\n",
              "      <td>33.56</td>\n",
              "      <td>Weekday</td>\n",
              "      <td>5067.83</td>\n",
              "    </tr>\n",
              "    <tr>\n",
              "      <th>3</th>\n",
              "      <td>Residential</td>\n",
              "      <td>41625</td>\n",
              "      <td>84</td>\n",
              "      <td>17</td>\n",
              "      <td>27.39</td>\n",
              "      <td>Weekend</td>\n",
              "      <td>4624.30</td>\n",
              "    </tr>\n",
              "    <tr>\n",
              "      <th>4</th>\n",
              "      <td>Residential</td>\n",
              "      <td>36720</td>\n",
              "      <td>58</td>\n",
              "      <td>47</td>\n",
              "      <td>17.08</td>\n",
              "      <td>Weekday</td>\n",
              "      <td>4820.59</td>\n",
              "    </tr>\n",
              "  </tbody>\n",
              "</table>\n",
              "</div>\n",
              "    <div class=\"colab-df-buttons\">\n",
              "\n",
              "  <div class=\"colab-df-container\">\n",
              "    <button class=\"colab-df-convert\" onclick=\"convertToInteractive('df-31b2dd24-4411-4f7a-b4fa-6875f7559692')\"\n",
              "            title=\"Convert this dataframe to an interactive table.\"\n",
              "            style=\"display:none;\">\n",
              "\n",
              "  <svg xmlns=\"http://www.w3.org/2000/svg\" height=\"24px\" viewBox=\"0 -960 960 960\">\n",
              "    <path d=\"M120-120v-720h720v720H120Zm60-500h600v-160H180v160Zm220 220h160v-160H400v160Zm0 220h160v-160H400v160ZM180-400h160v-160H180v160Zm440 0h160v-160H620v160ZM180-180h160v-160H180v160Zm440 0h160v-160H620v160Z\"/>\n",
              "  </svg>\n",
              "    </button>\n",
              "\n",
              "  <style>\n",
              "    .colab-df-container {\n",
              "      display:flex;\n",
              "      gap: 12px;\n",
              "    }\n",
              "\n",
              "    .colab-df-convert {\n",
              "      background-color: #E8F0FE;\n",
              "      border: none;\n",
              "      border-radius: 50%;\n",
              "      cursor: pointer;\n",
              "      display: none;\n",
              "      fill: #1967D2;\n",
              "      height: 32px;\n",
              "      padding: 0 0 0 0;\n",
              "      width: 32px;\n",
              "    }\n",
              "\n",
              "    .colab-df-convert:hover {\n",
              "      background-color: #E2EBFA;\n",
              "      box-shadow: 0px 1px 2px rgba(60, 64, 67, 0.3), 0px 1px 3px 1px rgba(60, 64, 67, 0.15);\n",
              "      fill: #174EA6;\n",
              "    }\n",
              "\n",
              "    .colab-df-buttons div {\n",
              "      margin-bottom: 4px;\n",
              "    }\n",
              "\n",
              "    [theme=dark] .colab-df-convert {\n",
              "      background-color: #3B4455;\n",
              "      fill: #D2E3FC;\n",
              "    }\n",
              "\n",
              "    [theme=dark] .colab-df-convert:hover {\n",
              "      background-color: #434B5C;\n",
              "      box-shadow: 0px 1px 3px 1px rgba(0, 0, 0, 0.15);\n",
              "      filter: drop-shadow(0px 1px 2px rgba(0, 0, 0, 0.3));\n",
              "      fill: #FFFFFF;\n",
              "    }\n",
              "  </style>\n",
              "\n",
              "    <script>\n",
              "      const buttonEl =\n",
              "        document.querySelector('#df-31b2dd24-4411-4f7a-b4fa-6875f7559692 button.colab-df-convert');\n",
              "      buttonEl.style.display =\n",
              "        google.colab.kernel.accessAllowed ? 'block' : 'none';\n",
              "\n",
              "      async function convertToInteractive(key) {\n",
              "        const element = document.querySelector('#df-31b2dd24-4411-4f7a-b4fa-6875f7559692');\n",
              "        const dataTable =\n",
              "          await google.colab.kernel.invokeFunction('convertToInteractive',\n",
              "                                                    [key], {});\n",
              "        if (!dataTable) return;\n",
              "\n",
              "        const docLinkHtml = 'Like what you see? Visit the ' +\n",
              "          '<a target=\"_blank\" href=https://colab.research.google.com/notebooks/data_table.ipynb>data table notebook</a>'\n",
              "          + ' to learn more about interactive tables.';\n",
              "        element.innerHTML = '';\n",
              "        dataTable['output_type'] = 'display_data';\n",
              "        await google.colab.output.renderOutput(dataTable, element);\n",
              "        const docLink = document.createElement('div');\n",
              "        docLink.innerHTML = docLinkHtml;\n",
              "        element.appendChild(docLink);\n",
              "      }\n",
              "    </script>\n",
              "  </div>\n",
              "\n",
              "\n",
              "<div id=\"df-d1faafd3-2528-44c1-a90f-cfdbad024ce9\">\n",
              "  <button class=\"colab-df-quickchart\" onclick=\"quickchart('df-d1faafd3-2528-44c1-a90f-cfdbad024ce9')\"\n",
              "            title=\"Suggest charts\"\n",
              "            style=\"display:none;\">\n",
              "\n",
              "<svg xmlns=\"http://www.w3.org/2000/svg\" height=\"24px\"viewBox=\"0 0 24 24\"\n",
              "     width=\"24px\">\n",
              "    <g>\n",
              "        <path d=\"M19 3H5c-1.1 0-2 .9-2 2v14c0 1.1.9 2 2 2h14c1.1 0 2-.9 2-2V5c0-1.1-.9-2-2-2zM9 17H7v-7h2v7zm4 0h-2V7h2v10zm4 0h-2v-4h2v4z\"/>\n",
              "    </g>\n",
              "</svg>\n",
              "  </button>\n",
              "\n",
              "<style>\n",
              "  .colab-df-quickchart {\n",
              "      --bg-color: #E8F0FE;\n",
              "      --fill-color: #1967D2;\n",
              "      --hover-bg-color: #E2EBFA;\n",
              "      --hover-fill-color: #174EA6;\n",
              "      --disabled-fill-color: #AAA;\n",
              "      --disabled-bg-color: #DDD;\n",
              "  }\n",
              "\n",
              "  [theme=dark] .colab-df-quickchart {\n",
              "      --bg-color: #3B4455;\n",
              "      --fill-color: #D2E3FC;\n",
              "      --hover-bg-color: #434B5C;\n",
              "      --hover-fill-color: #FFFFFF;\n",
              "      --disabled-bg-color: #3B4455;\n",
              "      --disabled-fill-color: #666;\n",
              "  }\n",
              "\n",
              "  .colab-df-quickchart {\n",
              "    background-color: var(--bg-color);\n",
              "    border: none;\n",
              "    border-radius: 50%;\n",
              "    cursor: pointer;\n",
              "    display: none;\n",
              "    fill: var(--fill-color);\n",
              "    height: 32px;\n",
              "    padding: 0;\n",
              "    width: 32px;\n",
              "  }\n",
              "\n",
              "  .colab-df-quickchart:hover {\n",
              "    background-color: var(--hover-bg-color);\n",
              "    box-shadow: 0 1px 2px rgba(60, 64, 67, 0.3), 0 1px 3px 1px rgba(60, 64, 67, 0.15);\n",
              "    fill: var(--button-hover-fill-color);\n",
              "  }\n",
              "\n",
              "  .colab-df-quickchart-complete:disabled,\n",
              "  .colab-df-quickchart-complete:disabled:hover {\n",
              "    background-color: var(--disabled-bg-color);\n",
              "    fill: var(--disabled-fill-color);\n",
              "    box-shadow: none;\n",
              "  }\n",
              "\n",
              "  .colab-df-spinner {\n",
              "    border: 2px solid var(--fill-color);\n",
              "    border-color: transparent;\n",
              "    border-bottom-color: var(--fill-color);\n",
              "    animation:\n",
              "      spin 1s steps(1) infinite;\n",
              "  }\n",
              "\n",
              "  @keyframes spin {\n",
              "    0% {\n",
              "      border-color: transparent;\n",
              "      border-bottom-color: var(--fill-color);\n",
              "      border-left-color: var(--fill-color);\n",
              "    }\n",
              "    20% {\n",
              "      border-color: transparent;\n",
              "      border-left-color: var(--fill-color);\n",
              "      border-top-color: var(--fill-color);\n",
              "    }\n",
              "    30% {\n",
              "      border-color: transparent;\n",
              "      border-left-color: var(--fill-color);\n",
              "      border-top-color: var(--fill-color);\n",
              "      border-right-color: var(--fill-color);\n",
              "    }\n",
              "    40% {\n",
              "      border-color: transparent;\n",
              "      border-right-color: var(--fill-color);\n",
              "      border-top-color: var(--fill-color);\n",
              "    }\n",
              "    60% {\n",
              "      border-color: transparent;\n",
              "      border-right-color: var(--fill-color);\n",
              "    }\n",
              "    80% {\n",
              "      border-color: transparent;\n",
              "      border-right-color: var(--fill-color);\n",
              "      border-bottom-color: var(--fill-color);\n",
              "    }\n",
              "    90% {\n",
              "      border-color: transparent;\n",
              "      border-bottom-color: var(--fill-color);\n",
              "    }\n",
              "  }\n",
              "</style>\n",
              "\n",
              "  <script>\n",
              "    async function quickchart(key) {\n",
              "      const quickchartButtonEl =\n",
              "        document.querySelector('#' + key + ' button');\n",
              "      quickchartButtonEl.disabled = true;  // To prevent multiple clicks.\n",
              "      quickchartButtonEl.classList.add('colab-df-spinner');\n",
              "      try {\n",
              "        const charts = await google.colab.kernel.invokeFunction(\n",
              "            'suggestCharts', [key], {});\n",
              "      } catch (error) {\n",
              "        console.error('Error during call to suggestCharts:', error);\n",
              "      }\n",
              "      quickchartButtonEl.classList.remove('colab-df-spinner');\n",
              "      quickchartButtonEl.classList.add('colab-df-quickchart-complete');\n",
              "    }\n",
              "    (() => {\n",
              "      let quickchartButtonEl =\n",
              "        document.querySelector('#df-d1faafd3-2528-44c1-a90f-cfdbad024ce9 button');\n",
              "      quickchartButtonEl.style.display =\n",
              "        google.colab.kernel.accessAllowed ? 'block' : 'none';\n",
              "    })();\n",
              "  </script>\n",
              "</div>\n",
              "\n",
              "    </div>\n",
              "  </div>\n"
            ],
            "application/vnd.google.colaboratory.intrinsic+json": {
              "type": "dataframe",
              "variable_name": "df",
              "summary": "{\n  \"name\": \"df\",\n  \"rows\": 100,\n  \"fields\": [\n    {\n      \"column\": \"Building Type\",\n      \"properties\": {\n        \"dtype\": \"category\",\n        \"num_unique_values\": 3,\n        \"samples\": [\n          \"Residential\",\n          \"Commercial\",\n          \"Industrial\"\n        ],\n        \"semantic_type\": \"\",\n        \"description\": \"\"\n      }\n    },\n    {\n      \"column\": \"Square Footage\",\n      \"properties\": {\n        \"dtype\": \"number\",\n        \"std\": 13711,\n        \"min\": 1161,\n        \"max\": 49354,\n        \"num_unique_values\": 99,\n        \"samples\": [\n          21408,\n          39327,\n          37943\n        ],\n        \"semantic_type\": \"\",\n        \"description\": \"\"\n      }\n    },\n    {\n      \"column\": \"Number of Occupants\",\n      \"properties\": {\n        \"dtype\": \"number\",\n        \"std\": 29,\n        \"min\": 2,\n        \"max\": 99,\n        \"num_unique_values\": 65,\n        \"samples\": [\n          99,\n          64,\n          15\n        ],\n        \"semantic_type\": \"\",\n        \"description\": \"\"\n      }\n    },\n    {\n      \"column\": \"Appliances Used\",\n      \"properties\": {\n        \"dtype\": \"number\",\n        \"std\": 14,\n        \"min\": 1,\n        \"max\": 49,\n        \"num_unique_values\": 45,\n        \"samples\": [\n          30,\n          45,\n          21\n        ],\n        \"semantic_type\": \"\",\n        \"description\": \"\"\n      }\n    },\n    {\n      \"column\": \"Average Temperature\",\n      \"properties\": {\n        \"dtype\": \"number\",\n        \"std\": 6.957951349341124,\n        \"min\": 10.4,\n        \"max\": 34.71,\n        \"num_unique_values\": 99,\n        \"samples\": [\n          27.59,\n          19.4,\n          21.73\n        ],\n        \"semantic_type\": \"\",\n        \"description\": \"\"\n      }\n    },\n    {\n      \"column\": \"Day of Week\",\n      \"properties\": {\n        \"dtype\": \"category\",\n        \"num_unique_values\": 2,\n        \"samples\": [\n          \"Weekend\",\n          \"Weekday\"\n        ],\n        \"semantic_type\": \"\",\n        \"description\": \"\"\n      }\n    },\n    {\n      \"column\": \"Energy Consumption\",\n      \"properties\": {\n        \"dtype\": \"number\",\n        \"std\": 832.5598495088822,\n        \"min\": 2351.97,\n        \"max\": 6042.56,\n        \"num_unique_values\": 100,\n        \"samples\": [\n          5900.32,\n          3072.63\n        ],\n        \"semantic_type\": \"\",\n        \"description\": \"\"\n      }\n    }\n  ]\n}"
            }
          },
          "metadata": {},
          "execution_count": 2
        }
      ],
      "source": [
        "# Import des librairies\n",
        "import pandas as pd\n",
        "\n",
        "# Charger le dataset depuis ton fichier\n",
        "df = pd.read_csv('/home/TP2_IA/test_energy_data.csv')\n",
        "\n",
        "# Afficher les premières lignes pour visualiser\n",
        "df.head()"
      ]
    },
    {
      "cell_type": "markdown",
      "source": [
        "## Vérification des valeurs manquantes"
      ],
      "metadata": {
        "id": "2pRiVsWUOhd1"
      }
    },
    {
      "cell_type": "code",
      "source": [
        "# Vérification des valeurs manquantes\n",
        "print(\"Nombre de valeurs manquantes par colonne :\")\n",
        "print(df.isnull().sum())"
      ],
      "metadata": {
        "colab": {
          "base_uri": "https://localhost:8080/"
        },
        "id": "ySBnAGGUM95z",
        "outputId": "f27a3701-95dd-4e3b-9e38-c5378d141fe2"
      },
      "execution_count": null,
      "outputs": [
        {
          "output_type": "stream",
          "name": "stdout",
          "text": [
            "Nombre de valeurs manquantes par colonne :\n",
            "Building Type          0\n",
            "Square Footage         0\n",
            "Number of Occupants    0\n",
            "Appliances Used        0\n",
            "Average Temperature    0\n",
            "Day of Week            0\n",
            "Energy Consumption     0\n",
            "dtype: int64\n"
          ]
        }
      ]
    },
    {
      "cell_type": "markdown",
      "source": [],
      "metadata": {
        "id": "migrzmXwOgaV"
      }
    },
    {
      "cell_type": "markdown",
      "source": [
        "## Traitement des valeurs manquantes"
      ],
      "metadata": {
        "id": "Kuqn-fTBO2Y9"
      }
    },
    {
      "cell_type": "code",
      "source": [
        "import pandas as pd\n",
        "\n",
        "# ... (Votre code existant pour charger le DataFrame) ...\n",
        "\n",
        "# Sélectionner les colonnes numériques\n",
        "numeric_cols = df.select_dtypes(include=['number']).columns\n",
        "\n",
        "# Remplacer les valeurs manquantes dans les colonnes numériques par leur moyenne\n",
        "df[numeric_cols] = df[numeric_cols].fillna(df[numeric_cols].mean())"
      ],
      "metadata": {
        "id": "JIGf4nUDO3cA"
      },
      "execution_count": null,
      "outputs": []
    },
    {
      "cell_type": "markdown",
      "source": [
        "## 1.2 SUPPRESSION DES DOUBLONS OU ERREURS"
      ],
      "metadata": {
        "id": "R92gzT6GPJ6y"
      }
    },
    {
      "cell_type": "code",
      "source": [
        "# Vérifie combien de lignes sont en double\n",
        "print(\"Nombre de doublons :\", df.duplicated().sum())"
      ],
      "metadata": {
        "colab": {
          "base_uri": "https://localhost:8080/"
        },
        "id": "l9F1YmszPMSz",
        "outputId": "e426bf0b-0753-4430-e4be-bb85bafe0754"
      },
      "execution_count": null,
      "outputs": [
        {
          "output_type": "stream",
          "name": "stdout",
          "text": [
            "Nombre de doublons : 0\n"
          ]
        }
      ]
    },
    {
      "cell_type": "markdown",
      "source": [
        "## Suppression des doublons"
      ],
      "metadata": {
        "id": "ha_yiLtqPk69"
      }
    },
    {
      "cell_type": "code",
      "source": [
        "# Supprimer les doublons si présents\n",
        "df.drop_duplicates(inplace=True)"
      ],
      "metadata": {
        "id": "lcm3oAVPPl69"
      },
      "execution_count": null,
      "outputs": []
    },
    {
      "cell_type": "markdown",
      "source": [
        "# OPERTION 2 TRANSFORMATION DES DONNÉES"
      ],
      "metadata": {
        "id": "TeSkNWfTPwSY"
      }
    },
    {
      "cell_type": "code",
      "source": [
        "from sklearn.preprocessing import MinMaxScaler, StandardScaler\n",
        "# Supposons que ton DataFrame est déjà chargé et nettoyé (df)\n",
        "\n",
        "# On sélectionne uniquement les colonnes numériques\n",
        "numerical_columns = df.select_dtypes(include=['float64', 'int64']).columns\n",
        "df_num = df[numerical_columns]\n",
        "\n",
        "df_num.head()"
      ],
      "metadata": {
        "colab": {
          "base_uri": "https://localhost:8080/",
          "height": 223
        },
        "id": "JqmF0WqUPxe7",
        "outputId": "8efa23f5-a630-453e-c81b-067e48924628"
      },
      "execution_count": null,
      "outputs": [
        {
          "output_type": "execute_result",
          "data": {
            "text/plain": [
              "   Square Footage  Number of Occupants  Appliances Used  Average Temperature  \\\n",
              "0           24563                   15                4                28.52   \n",
              "1           27583                   56               23                23.07   \n",
              "2           45313                    4               44                33.56   \n",
              "3           41625                   84               17                27.39   \n",
              "4           36720                   58               47                17.08   \n",
              "\n",
              "   Energy Consumption  \n",
              "0             2865.57  \n",
              "1             4283.80  \n",
              "2             5067.83  \n",
              "3             4624.30  \n",
              "4             4820.59  "
            ],
            "text/html": [
              "\n",
              "  <div id=\"df-f4625fda-39fc-4b4b-8bbc-46aec9b5b5b1\" class=\"colab-df-container\">\n",
              "    <div>\n",
              "<style scoped>\n",
              "    .dataframe tbody tr th:only-of-type {\n",
              "        vertical-align: middle;\n",
              "    }\n",
              "\n",
              "    .dataframe tbody tr th {\n",
              "        vertical-align: top;\n",
              "    }\n",
              "\n",
              "    .dataframe thead th {\n",
              "        text-align: right;\n",
              "    }\n",
              "</style>\n",
              "<table border=\"1\" class=\"dataframe\">\n",
              "  <thead>\n",
              "    <tr style=\"text-align: right;\">\n",
              "      <th></th>\n",
              "      <th>Square Footage</th>\n",
              "      <th>Number of Occupants</th>\n",
              "      <th>Appliances Used</th>\n",
              "      <th>Average Temperature</th>\n",
              "      <th>Energy Consumption</th>\n",
              "    </tr>\n",
              "  </thead>\n",
              "  <tbody>\n",
              "    <tr>\n",
              "      <th>0</th>\n",
              "      <td>24563</td>\n",
              "      <td>15</td>\n",
              "      <td>4</td>\n",
              "      <td>28.52</td>\n",
              "      <td>2865.57</td>\n",
              "    </tr>\n",
              "    <tr>\n",
              "      <th>1</th>\n",
              "      <td>27583</td>\n",
              "      <td>56</td>\n",
              "      <td>23</td>\n",
              "      <td>23.07</td>\n",
              "      <td>4283.80</td>\n",
              "    </tr>\n",
              "    <tr>\n",
              "      <th>2</th>\n",
              "      <td>45313</td>\n",
              "      <td>4</td>\n",
              "      <td>44</td>\n",
              "      <td>33.56</td>\n",
              "      <td>5067.83</td>\n",
              "    </tr>\n",
              "    <tr>\n",
              "      <th>3</th>\n",
              "      <td>41625</td>\n",
              "      <td>84</td>\n",
              "      <td>17</td>\n",
              "      <td>27.39</td>\n",
              "      <td>4624.30</td>\n",
              "    </tr>\n",
              "    <tr>\n",
              "      <th>4</th>\n",
              "      <td>36720</td>\n",
              "      <td>58</td>\n",
              "      <td>47</td>\n",
              "      <td>17.08</td>\n",
              "      <td>4820.59</td>\n",
              "    </tr>\n",
              "  </tbody>\n",
              "</table>\n",
              "</div>\n",
              "    <div class=\"colab-df-buttons\">\n",
              "\n",
              "  <div class=\"colab-df-container\">\n",
              "    <button class=\"colab-df-convert\" onclick=\"convertToInteractive('df-f4625fda-39fc-4b4b-8bbc-46aec9b5b5b1')\"\n",
              "            title=\"Convert this dataframe to an interactive table.\"\n",
              "            style=\"display:none;\">\n",
              "\n",
              "  <svg xmlns=\"http://www.w3.org/2000/svg\" height=\"24px\" viewBox=\"0 -960 960 960\">\n",
              "    <path d=\"M120-120v-720h720v720H120Zm60-500h600v-160H180v160Zm220 220h160v-160H400v160Zm0 220h160v-160H400v160ZM180-400h160v-160H180v160Zm440 0h160v-160H620v160ZM180-180h160v-160H180v160Zm440 0h160v-160H620v160Z\"/>\n",
              "  </svg>\n",
              "    </button>\n",
              "\n",
              "  <style>\n",
              "    .colab-df-container {\n",
              "      display:flex;\n",
              "      gap: 12px;\n",
              "    }\n",
              "\n",
              "    .colab-df-convert {\n",
              "      background-color: #E8F0FE;\n",
              "      border: none;\n",
              "      border-radius: 50%;\n",
              "      cursor: pointer;\n",
              "      display: none;\n",
              "      fill: #1967D2;\n",
              "      height: 32px;\n",
              "      padding: 0 0 0 0;\n",
              "      width: 32px;\n",
              "    }\n",
              "\n",
              "    .colab-df-convert:hover {\n",
              "      background-color: #E2EBFA;\n",
              "      box-shadow: 0px 1px 2px rgba(60, 64, 67, 0.3), 0px 1px 3px 1px rgba(60, 64, 67, 0.15);\n",
              "      fill: #174EA6;\n",
              "    }\n",
              "\n",
              "    .colab-df-buttons div {\n",
              "      margin-bottom: 4px;\n",
              "    }\n",
              "\n",
              "    [theme=dark] .colab-df-convert {\n",
              "      background-color: #3B4455;\n",
              "      fill: #D2E3FC;\n",
              "    }\n",
              "\n",
              "    [theme=dark] .colab-df-convert:hover {\n",
              "      background-color: #434B5C;\n",
              "      box-shadow: 0px 1px 3px 1px rgba(0, 0, 0, 0.15);\n",
              "      filter: drop-shadow(0px 1px 2px rgba(0, 0, 0, 0.3));\n",
              "      fill: #FFFFFF;\n",
              "    }\n",
              "  </style>\n",
              "\n",
              "    <script>\n",
              "      const buttonEl =\n",
              "        document.querySelector('#df-f4625fda-39fc-4b4b-8bbc-46aec9b5b5b1 button.colab-df-convert');\n",
              "      buttonEl.style.display =\n",
              "        google.colab.kernel.accessAllowed ? 'block' : 'none';\n",
              "\n",
              "      async function convertToInteractive(key) {\n",
              "        const element = document.querySelector('#df-f4625fda-39fc-4b4b-8bbc-46aec9b5b5b1');\n",
              "        const dataTable =\n",
              "          await google.colab.kernel.invokeFunction('convertToInteractive',\n",
              "                                                    [key], {});\n",
              "        if (!dataTable) return;\n",
              "\n",
              "        const docLinkHtml = 'Like what you see? Visit the ' +\n",
              "          '<a target=\"_blank\" href=https://colab.research.google.com/notebooks/data_table.ipynb>data table notebook</a>'\n",
              "          + ' to learn more about interactive tables.';\n",
              "        element.innerHTML = '';\n",
              "        dataTable['output_type'] = 'display_data';\n",
              "        await google.colab.output.renderOutput(dataTable, element);\n",
              "        const docLink = document.createElement('div');\n",
              "        docLink.innerHTML = docLinkHtml;\n",
              "        element.appendChild(docLink);\n",
              "      }\n",
              "    </script>\n",
              "  </div>\n",
              "\n",
              "\n",
              "<div id=\"df-ef9244ed-ea5e-404d-97a3-4f9c74a7edf2\">\n",
              "  <button class=\"colab-df-quickchart\" onclick=\"quickchart('df-ef9244ed-ea5e-404d-97a3-4f9c74a7edf2')\"\n",
              "            title=\"Suggest charts\"\n",
              "            style=\"display:none;\">\n",
              "\n",
              "<svg xmlns=\"http://www.w3.org/2000/svg\" height=\"24px\"viewBox=\"0 0 24 24\"\n",
              "     width=\"24px\">\n",
              "    <g>\n",
              "        <path d=\"M19 3H5c-1.1 0-2 .9-2 2v14c0 1.1.9 2 2 2h14c1.1 0 2-.9 2-2V5c0-1.1-.9-2-2-2zM9 17H7v-7h2v7zm4 0h-2V7h2v10zm4 0h-2v-4h2v4z\"/>\n",
              "    </g>\n",
              "</svg>\n",
              "  </button>\n",
              "\n",
              "<style>\n",
              "  .colab-df-quickchart {\n",
              "      --bg-color: #E8F0FE;\n",
              "      --fill-color: #1967D2;\n",
              "      --hover-bg-color: #E2EBFA;\n",
              "      --hover-fill-color: #174EA6;\n",
              "      --disabled-fill-color: #AAA;\n",
              "      --disabled-bg-color: #DDD;\n",
              "  }\n",
              "\n",
              "  [theme=dark] .colab-df-quickchart {\n",
              "      --bg-color: #3B4455;\n",
              "      --fill-color: #D2E3FC;\n",
              "      --hover-bg-color: #434B5C;\n",
              "      --hover-fill-color: #FFFFFF;\n",
              "      --disabled-bg-color: #3B4455;\n",
              "      --disabled-fill-color: #666;\n",
              "  }\n",
              "\n",
              "  .colab-df-quickchart {\n",
              "    background-color: var(--bg-color);\n",
              "    border: none;\n",
              "    border-radius: 50%;\n",
              "    cursor: pointer;\n",
              "    display: none;\n",
              "    fill: var(--fill-color);\n",
              "    height: 32px;\n",
              "    padding: 0;\n",
              "    width: 32px;\n",
              "  }\n",
              "\n",
              "  .colab-df-quickchart:hover {\n",
              "    background-color: var(--hover-bg-color);\n",
              "    box-shadow: 0 1px 2px rgba(60, 64, 67, 0.3), 0 1px 3px 1px rgba(60, 64, 67, 0.15);\n",
              "    fill: var(--button-hover-fill-color);\n",
              "  }\n",
              "\n",
              "  .colab-df-quickchart-complete:disabled,\n",
              "  .colab-df-quickchart-complete:disabled:hover {\n",
              "    background-color: var(--disabled-bg-color);\n",
              "    fill: var(--disabled-fill-color);\n",
              "    box-shadow: none;\n",
              "  }\n",
              "\n",
              "  .colab-df-spinner {\n",
              "    border: 2px solid var(--fill-color);\n",
              "    border-color: transparent;\n",
              "    border-bottom-color: var(--fill-color);\n",
              "    animation:\n",
              "      spin 1s steps(1) infinite;\n",
              "  }\n",
              "\n",
              "  @keyframes spin {\n",
              "    0% {\n",
              "      border-color: transparent;\n",
              "      border-bottom-color: var(--fill-color);\n",
              "      border-left-color: var(--fill-color);\n",
              "    }\n",
              "    20% {\n",
              "      border-color: transparent;\n",
              "      border-left-color: var(--fill-color);\n",
              "      border-top-color: var(--fill-color);\n",
              "    }\n",
              "    30% {\n",
              "      border-color: transparent;\n",
              "      border-left-color: var(--fill-color);\n",
              "      border-top-color: var(--fill-color);\n",
              "      border-right-color: var(--fill-color);\n",
              "    }\n",
              "    40% {\n",
              "      border-color: transparent;\n",
              "      border-right-color: var(--fill-color);\n",
              "      border-top-color: var(--fill-color);\n",
              "    }\n",
              "    60% {\n",
              "      border-color: transparent;\n",
              "      border-right-color: var(--fill-color);\n",
              "    }\n",
              "    80% {\n",
              "      border-color: transparent;\n",
              "      border-right-color: var(--fill-color);\n",
              "      border-bottom-color: var(--fill-color);\n",
              "    }\n",
              "    90% {\n",
              "      border-color: transparent;\n",
              "      border-bottom-color: var(--fill-color);\n",
              "    }\n",
              "  }\n",
              "</style>\n",
              "\n",
              "  <script>\n",
              "    async function quickchart(key) {\n",
              "      const quickchartButtonEl =\n",
              "        document.querySelector('#' + key + ' button');\n",
              "      quickchartButtonEl.disabled = true;  // To prevent multiple clicks.\n",
              "      quickchartButtonEl.classList.add('colab-df-spinner');\n",
              "      try {\n",
              "        const charts = await google.colab.kernel.invokeFunction(\n",
              "            'suggestCharts', [key], {});\n",
              "      } catch (error) {\n",
              "        console.error('Error during call to suggestCharts:', error);\n",
              "      }\n",
              "      quickchartButtonEl.classList.remove('colab-df-spinner');\n",
              "      quickchartButtonEl.classList.add('colab-df-quickchart-complete');\n",
              "    }\n",
              "    (() => {\n",
              "      let quickchartButtonEl =\n",
              "        document.querySelector('#df-ef9244ed-ea5e-404d-97a3-4f9c74a7edf2 button');\n",
              "      quickchartButtonEl.style.display =\n",
              "        google.colab.kernel.accessAllowed ? 'block' : 'none';\n",
              "    })();\n",
              "  </script>\n",
              "</div>\n",
              "\n",
              "    </div>\n",
              "  </div>\n"
            ],
            "application/vnd.google.colaboratory.intrinsic+json": {
              "type": "dataframe",
              "variable_name": "df_num",
              "summary": "{\n  \"name\": \"df_num\",\n  \"rows\": 100,\n  \"fields\": [\n    {\n      \"column\": \"Square Footage\",\n      \"properties\": {\n        \"dtype\": \"number\",\n        \"std\": 13711,\n        \"min\": 1161,\n        \"max\": 49354,\n        \"num_unique_values\": 99,\n        \"samples\": [\n          21408,\n          39327,\n          37943\n        ],\n        \"semantic_type\": \"\",\n        \"description\": \"\"\n      }\n    },\n    {\n      \"column\": \"Number of Occupants\",\n      \"properties\": {\n        \"dtype\": \"number\",\n        \"std\": 29,\n        \"min\": 2,\n        \"max\": 99,\n        \"num_unique_values\": 65,\n        \"samples\": [\n          99,\n          64,\n          15\n        ],\n        \"semantic_type\": \"\",\n        \"description\": \"\"\n      }\n    },\n    {\n      \"column\": \"Appliances Used\",\n      \"properties\": {\n        \"dtype\": \"number\",\n        \"std\": 14,\n        \"min\": 1,\n        \"max\": 49,\n        \"num_unique_values\": 45,\n        \"samples\": [\n          30,\n          45,\n          21\n        ],\n        \"semantic_type\": \"\",\n        \"description\": \"\"\n      }\n    },\n    {\n      \"column\": \"Average Temperature\",\n      \"properties\": {\n        \"dtype\": \"number\",\n        \"std\": 6.957951349341124,\n        \"min\": 10.4,\n        \"max\": 34.71,\n        \"num_unique_values\": 99,\n        \"samples\": [\n          27.59,\n          19.4,\n          21.73\n        ],\n        \"semantic_type\": \"\",\n        \"description\": \"\"\n      }\n    },\n    {\n      \"column\": \"Energy Consumption\",\n      \"properties\": {\n        \"dtype\": \"number\",\n        \"std\": 832.5598495088822,\n        \"min\": 2351.97,\n        \"max\": 6042.56,\n        \"num_unique_values\": 100,\n        \"samples\": [\n          5900.32,\n          3072.63,\n          4103.39\n        ],\n        \"semantic_type\": \"\",\n        \"description\": \"\"\n      }\n    }\n  ]\n}"
            }
          },
          "metadata": {},
          "execution_count": 7
        }
      ]
    },
    {
      "cell_type": "markdown",
      "source": [
        "## Normalisation (MinMaxScaler)"
      ],
      "metadata": {
        "id": "_pRuFWzmQBF_"
      }
    },
    {
      "cell_type": "code",
      "source": [
        "# Importer et appliquer la normalisation\n",
        "scaler_minmax = MinMaxScaler()\n",
        "df_normalized = pd.DataFrame(scaler_minmax.fit_transform(df_num), columns=numerical_columns)\n",
        "\n",
        "# Affichage des données normalisées\n",
        "df_normalized.head()"
      ],
      "metadata": {
        "colab": {
          "base_uri": "https://localhost:8080/",
          "height": 223
        },
        "id": "6PMtcpO-QC01",
        "outputId": "977c6e77-6dcb-48b9-9b38-d48f0429f7e3"
      },
      "execution_count": null,
      "outputs": [
        {
          "output_type": "execute_result",
          "data": {
            "text/plain": [
              "   Square Footage  Number of Occupants  Appliances Used  Average Temperature  \\\n",
              "0        0.485589             0.134021         0.062500             0.745372   \n",
              "1        0.548254             0.556701         0.458333             0.521185   \n",
              "2        0.916150             0.020619         0.895833             0.952694   \n",
              "3        0.839624             0.845361         0.333333             0.698889   \n",
              "4        0.737846             0.577320         0.958333             0.274784   \n",
              "\n",
              "   Energy Consumption  \n",
              "0            0.139165  \n",
              "1            0.523447  \n",
              "2            0.735888  \n",
              "3            0.615709  \n",
              "4            0.668896  "
            ],
            "text/html": [
              "\n",
              "  <div id=\"df-8bf158e8-6d41-4131-8891-47dfa42d7de5\" class=\"colab-df-container\">\n",
              "    <div>\n",
              "<style scoped>\n",
              "    .dataframe tbody tr th:only-of-type {\n",
              "        vertical-align: middle;\n",
              "    }\n",
              "\n",
              "    .dataframe tbody tr th {\n",
              "        vertical-align: top;\n",
              "    }\n",
              "\n",
              "    .dataframe thead th {\n",
              "        text-align: right;\n",
              "    }\n",
              "</style>\n",
              "<table border=\"1\" class=\"dataframe\">\n",
              "  <thead>\n",
              "    <tr style=\"text-align: right;\">\n",
              "      <th></th>\n",
              "      <th>Square Footage</th>\n",
              "      <th>Number of Occupants</th>\n",
              "      <th>Appliances Used</th>\n",
              "      <th>Average Temperature</th>\n",
              "      <th>Energy Consumption</th>\n",
              "    </tr>\n",
              "  </thead>\n",
              "  <tbody>\n",
              "    <tr>\n",
              "      <th>0</th>\n",
              "      <td>0.485589</td>\n",
              "      <td>0.134021</td>\n",
              "      <td>0.062500</td>\n",
              "      <td>0.745372</td>\n",
              "      <td>0.139165</td>\n",
              "    </tr>\n",
              "    <tr>\n",
              "      <th>1</th>\n",
              "      <td>0.548254</td>\n",
              "      <td>0.556701</td>\n",
              "      <td>0.458333</td>\n",
              "      <td>0.521185</td>\n",
              "      <td>0.523447</td>\n",
              "    </tr>\n",
              "    <tr>\n",
              "      <th>2</th>\n",
              "      <td>0.916150</td>\n",
              "      <td>0.020619</td>\n",
              "      <td>0.895833</td>\n",
              "      <td>0.952694</td>\n",
              "      <td>0.735888</td>\n",
              "    </tr>\n",
              "    <tr>\n",
              "      <th>3</th>\n",
              "      <td>0.839624</td>\n",
              "      <td>0.845361</td>\n",
              "      <td>0.333333</td>\n",
              "      <td>0.698889</td>\n",
              "      <td>0.615709</td>\n",
              "    </tr>\n",
              "    <tr>\n",
              "      <th>4</th>\n",
              "      <td>0.737846</td>\n",
              "      <td>0.577320</td>\n",
              "      <td>0.958333</td>\n",
              "      <td>0.274784</td>\n",
              "      <td>0.668896</td>\n",
              "    </tr>\n",
              "  </tbody>\n",
              "</table>\n",
              "</div>\n",
              "    <div class=\"colab-df-buttons\">\n",
              "\n",
              "  <div class=\"colab-df-container\">\n",
              "    <button class=\"colab-df-convert\" onclick=\"convertToInteractive('df-8bf158e8-6d41-4131-8891-47dfa42d7de5')\"\n",
              "            title=\"Convert this dataframe to an interactive table.\"\n",
              "            style=\"display:none;\">\n",
              "\n",
              "  <svg xmlns=\"http://www.w3.org/2000/svg\" height=\"24px\" viewBox=\"0 -960 960 960\">\n",
              "    <path d=\"M120-120v-720h720v720H120Zm60-500h600v-160H180v160Zm220 220h160v-160H400v160Zm0 220h160v-160H400v160ZM180-400h160v-160H180v160Zm440 0h160v-160H620v160ZM180-180h160v-160H180v160Zm440 0h160v-160H620v160Z\"/>\n",
              "  </svg>\n",
              "    </button>\n",
              "\n",
              "  <style>\n",
              "    .colab-df-container {\n",
              "      display:flex;\n",
              "      gap: 12px;\n",
              "    }\n",
              "\n",
              "    .colab-df-convert {\n",
              "      background-color: #E8F0FE;\n",
              "      border: none;\n",
              "      border-radius: 50%;\n",
              "      cursor: pointer;\n",
              "      display: none;\n",
              "      fill: #1967D2;\n",
              "      height: 32px;\n",
              "      padding: 0 0 0 0;\n",
              "      width: 32px;\n",
              "    }\n",
              "\n",
              "    .colab-df-convert:hover {\n",
              "      background-color: #E2EBFA;\n",
              "      box-shadow: 0px 1px 2px rgba(60, 64, 67, 0.3), 0px 1px 3px 1px rgba(60, 64, 67, 0.15);\n",
              "      fill: #174EA6;\n",
              "    }\n",
              "\n",
              "    .colab-df-buttons div {\n",
              "      margin-bottom: 4px;\n",
              "    }\n",
              "\n",
              "    [theme=dark] .colab-df-convert {\n",
              "      background-color: #3B4455;\n",
              "      fill: #D2E3FC;\n",
              "    }\n",
              "\n",
              "    [theme=dark] .colab-df-convert:hover {\n",
              "      background-color: #434B5C;\n",
              "      box-shadow: 0px 1px 3px 1px rgba(0, 0, 0, 0.15);\n",
              "      filter: drop-shadow(0px 1px 2px rgba(0, 0, 0, 0.3));\n",
              "      fill: #FFFFFF;\n",
              "    }\n",
              "  </style>\n",
              "\n",
              "    <script>\n",
              "      const buttonEl =\n",
              "        document.querySelector('#df-8bf158e8-6d41-4131-8891-47dfa42d7de5 button.colab-df-convert');\n",
              "      buttonEl.style.display =\n",
              "        google.colab.kernel.accessAllowed ? 'block' : 'none';\n",
              "\n",
              "      async function convertToInteractive(key) {\n",
              "        const element = document.querySelector('#df-8bf158e8-6d41-4131-8891-47dfa42d7de5');\n",
              "        const dataTable =\n",
              "          await google.colab.kernel.invokeFunction('convertToInteractive',\n",
              "                                                    [key], {});\n",
              "        if (!dataTable) return;\n",
              "\n",
              "        const docLinkHtml = 'Like what you see? Visit the ' +\n",
              "          '<a target=\"_blank\" href=https://colab.research.google.com/notebooks/data_table.ipynb>data table notebook</a>'\n",
              "          + ' to learn more about interactive tables.';\n",
              "        element.innerHTML = '';\n",
              "        dataTable['output_type'] = 'display_data';\n",
              "        await google.colab.output.renderOutput(dataTable, element);\n",
              "        const docLink = document.createElement('div');\n",
              "        docLink.innerHTML = docLinkHtml;\n",
              "        element.appendChild(docLink);\n",
              "      }\n",
              "    </script>\n",
              "  </div>\n",
              "\n",
              "\n",
              "<div id=\"df-14d89f18-eb57-49a9-a17f-6e7397ae7f88\">\n",
              "  <button class=\"colab-df-quickchart\" onclick=\"quickchart('df-14d89f18-eb57-49a9-a17f-6e7397ae7f88')\"\n",
              "            title=\"Suggest charts\"\n",
              "            style=\"display:none;\">\n",
              "\n",
              "<svg xmlns=\"http://www.w3.org/2000/svg\" height=\"24px\"viewBox=\"0 0 24 24\"\n",
              "     width=\"24px\">\n",
              "    <g>\n",
              "        <path d=\"M19 3H5c-1.1 0-2 .9-2 2v14c0 1.1.9 2 2 2h14c1.1 0 2-.9 2-2V5c0-1.1-.9-2-2-2zM9 17H7v-7h2v7zm4 0h-2V7h2v10zm4 0h-2v-4h2v4z\"/>\n",
              "    </g>\n",
              "</svg>\n",
              "  </button>\n",
              "\n",
              "<style>\n",
              "  .colab-df-quickchart {\n",
              "      --bg-color: #E8F0FE;\n",
              "      --fill-color: #1967D2;\n",
              "      --hover-bg-color: #E2EBFA;\n",
              "      --hover-fill-color: #174EA6;\n",
              "      --disabled-fill-color: #AAA;\n",
              "      --disabled-bg-color: #DDD;\n",
              "  }\n",
              "\n",
              "  [theme=dark] .colab-df-quickchart {\n",
              "      --bg-color: #3B4455;\n",
              "      --fill-color: #D2E3FC;\n",
              "      --hover-bg-color: #434B5C;\n",
              "      --hover-fill-color: #FFFFFF;\n",
              "      --disabled-bg-color: #3B4455;\n",
              "      --disabled-fill-color: #666;\n",
              "  }\n",
              "\n",
              "  .colab-df-quickchart {\n",
              "    background-color: var(--bg-color);\n",
              "    border: none;\n",
              "    border-radius: 50%;\n",
              "    cursor: pointer;\n",
              "    display: none;\n",
              "    fill: var(--fill-color);\n",
              "    height: 32px;\n",
              "    padding: 0;\n",
              "    width: 32px;\n",
              "  }\n",
              "\n",
              "  .colab-df-quickchart:hover {\n",
              "    background-color: var(--hover-bg-color);\n",
              "    box-shadow: 0 1px 2px rgba(60, 64, 67, 0.3), 0 1px 3px 1px rgba(60, 64, 67, 0.15);\n",
              "    fill: var(--button-hover-fill-color);\n",
              "  }\n",
              "\n",
              "  .colab-df-quickchart-complete:disabled,\n",
              "  .colab-df-quickchart-complete:disabled:hover {\n",
              "    background-color: var(--disabled-bg-color);\n",
              "    fill: var(--disabled-fill-color);\n",
              "    box-shadow: none;\n",
              "  }\n",
              "\n",
              "  .colab-df-spinner {\n",
              "    border: 2px solid var(--fill-color);\n",
              "    border-color: transparent;\n",
              "    border-bottom-color: var(--fill-color);\n",
              "    animation:\n",
              "      spin 1s steps(1) infinite;\n",
              "  }\n",
              "\n",
              "  @keyframes spin {\n",
              "    0% {\n",
              "      border-color: transparent;\n",
              "      border-bottom-color: var(--fill-color);\n",
              "      border-left-color: var(--fill-color);\n",
              "    }\n",
              "    20% {\n",
              "      border-color: transparent;\n",
              "      border-left-color: var(--fill-color);\n",
              "      border-top-color: var(--fill-color);\n",
              "    }\n",
              "    30% {\n",
              "      border-color: transparent;\n",
              "      border-left-color: var(--fill-color);\n",
              "      border-top-color: var(--fill-color);\n",
              "      border-right-color: var(--fill-color);\n",
              "    }\n",
              "    40% {\n",
              "      border-color: transparent;\n",
              "      border-right-color: var(--fill-color);\n",
              "      border-top-color: var(--fill-color);\n",
              "    }\n",
              "    60% {\n",
              "      border-color: transparent;\n",
              "      border-right-color: var(--fill-color);\n",
              "    }\n",
              "    80% {\n",
              "      border-color: transparent;\n",
              "      border-right-color: var(--fill-color);\n",
              "      border-bottom-color: var(--fill-color);\n",
              "    }\n",
              "    90% {\n",
              "      border-color: transparent;\n",
              "      border-bottom-color: var(--fill-color);\n",
              "    }\n",
              "  }\n",
              "</style>\n",
              "\n",
              "  <script>\n",
              "    async function quickchart(key) {\n",
              "      const quickchartButtonEl =\n",
              "        document.querySelector('#' + key + ' button');\n",
              "      quickchartButtonEl.disabled = true;  // To prevent multiple clicks.\n",
              "      quickchartButtonEl.classList.add('colab-df-spinner');\n",
              "      try {\n",
              "        const charts = await google.colab.kernel.invokeFunction(\n",
              "            'suggestCharts', [key], {});\n",
              "      } catch (error) {\n",
              "        console.error('Error during call to suggestCharts:', error);\n",
              "      }\n",
              "      quickchartButtonEl.classList.remove('colab-df-spinner');\n",
              "      quickchartButtonEl.classList.add('colab-df-quickchart-complete');\n",
              "    }\n",
              "    (() => {\n",
              "      let quickchartButtonEl =\n",
              "        document.querySelector('#df-14d89f18-eb57-49a9-a17f-6e7397ae7f88 button');\n",
              "      quickchartButtonEl.style.display =\n",
              "        google.colab.kernel.accessAllowed ? 'block' : 'none';\n",
              "    })();\n",
              "  </script>\n",
              "</div>\n",
              "\n",
              "    </div>\n",
              "  </div>\n"
            ],
            "application/vnd.google.colaboratory.intrinsic+json": {
              "type": "dataframe",
              "variable_name": "df_normalized",
              "summary": "{\n  \"name\": \"df_normalized\",\n  \"rows\": 100,\n  \"fields\": [\n    {\n      \"column\": \"Square Footage\",\n      \"properties\": {\n        \"dtype\": \"number\",\n        \"std\": 0.2845034603422791,\n        \"min\": 0.0,\n        \"max\": 1.0,\n        \"num_unique_values\": 99,\n        \"samples\": [\n          0.4201232544145415,\n          0.7919407382814931,\n          0.7632228746913452\n        ],\n        \"semantic_type\": \"\",\n        \"description\": \"\"\n      }\n    },\n    {\n      \"column\": \"Number of Occupants\",\n      \"properties\": {\n        \"dtype\": \"number\",\n        \"std\": 0.3083043951505337,\n        \"min\": 0.0,\n        \"max\": 0.9999999999999999,\n        \"num_unique_values\": 65,\n        \"samples\": [\n          0.9999999999999999,\n          0.6391752577319587,\n          0.13402061855670103\n        ],\n        \"semantic_type\": \"\",\n        \"description\": \"\"\n      }\n    },\n    {\n      \"column\": \"Appliances Used\",\n      \"properties\": {\n        \"dtype\": \"number\",\n        \"std\": 0.29662179452476706,\n        \"min\": 0.0,\n        \"max\": 0.9999999999999999,\n        \"num_unique_values\": 45,\n        \"samples\": [\n          0.6041666666666666,\n          0.9166666666666666,\n          0.4166666666666667\n        ],\n        \"semantic_type\": \"\",\n        \"description\": \"\"\n      }\n    },\n    {\n      \"column\": \"Average Temperature\",\n      \"properties\": {\n        \"dtype\": \"number\",\n        \"std\": 0.2862176614290879,\n        \"min\": 0.0,\n        \"max\": 1.0,\n        \"num_unique_values\": 99,\n        \"samples\": [\n          0.7071164129987659,\n          0.3702180172768407,\n          0.46606334841628955\n        ],\n        \"semantic_type\": \"\",\n        \"description\": \"\"\n      }\n    },\n    {\n      \"column\": \"Energy Consumption\",\n      \"properties\": {\n        \"dtype\": \"number\",\n        \"std\": 0.2255899055459647,\n        \"min\": 0.0,\n        \"max\": 0.9999999999999999,\n        \"num_unique_values\": 100,\n        \"samples\": [\n          0.9614587369499185,\n          0.19526959104099895,\n          0.4745636876488585\n        ],\n        \"semantic_type\": \"\",\n        \"description\": \"\"\n      }\n    }\n  ]\n}"
            }
          },
          "metadata": {},
          "execution_count": 8
        }
      ]
    },
    {
      "cell_type": "markdown",
      "source": [
        "## Standardisation (StandardScaler)"
      ],
      "metadata": {
        "id": "J4-r-fi5QPg9"
      }
    },
    {
      "cell_type": "code",
      "source": [
        "# Importer et appliquer la standardisation\n",
        "scaler_standard = StandardScaler()\n",
        "df_standardized = pd.DataFrame(scaler_standard.fit_transform(df_num), columns=numerical_columns)\n",
        "\n",
        "# Affichage des données standardisées\n",
        "df_standardized.head()"
      ],
      "metadata": {
        "colab": {
          "base_uri": "https://localhost:8080/",
          "height": 223
        },
        "id": "SZ7_NVtmQQy4",
        "outputId": "f1f1007b-55e3-4e5e-d1a5-d6e61b388f17"
      },
      "execution_count": null,
      "outputs": [
        {
          "output_type": "execute_result",
          "data": {
            "text/plain": [
              "   Square Footage  Number of Occupants  Appliances Used  Average Temperature  \\\n",
              "0       -0.096678            -1.083157        -1.621433             0.935524   \n",
              "1        0.124691             0.294734        -0.280239             0.148301   \n",
              "2        1.424321            -1.452835         1.202134             1.663524   \n",
              "3        1.153986             1.235733        -0.703774             0.772301   \n",
              "4        0.794444             0.361948         1.413901            -0.716921   \n",
              "\n",
              "   Energy Consumption  \n",
              "0           -1.595883  \n",
              "1            0.116156  \n",
              "2            1.062610  \n",
              "3            0.527196  \n",
              "4            0.764150  "
            ],
            "text/html": [
              "\n",
              "  <div id=\"df-2aba442c-3580-4598-90a4-c5944090c845\" class=\"colab-df-container\">\n",
              "    <div>\n",
              "<style scoped>\n",
              "    .dataframe tbody tr th:only-of-type {\n",
              "        vertical-align: middle;\n",
              "    }\n",
              "\n",
              "    .dataframe tbody tr th {\n",
              "        vertical-align: top;\n",
              "    }\n",
              "\n",
              "    .dataframe thead th {\n",
              "        text-align: right;\n",
              "    }\n",
              "</style>\n",
              "<table border=\"1\" class=\"dataframe\">\n",
              "  <thead>\n",
              "    <tr style=\"text-align: right;\">\n",
              "      <th></th>\n",
              "      <th>Square Footage</th>\n",
              "      <th>Number of Occupants</th>\n",
              "      <th>Appliances Used</th>\n",
              "      <th>Average Temperature</th>\n",
              "      <th>Energy Consumption</th>\n",
              "    </tr>\n",
              "  </thead>\n",
              "  <tbody>\n",
              "    <tr>\n",
              "      <th>0</th>\n",
              "      <td>-0.096678</td>\n",
              "      <td>-1.083157</td>\n",
              "      <td>-1.621433</td>\n",
              "      <td>0.935524</td>\n",
              "      <td>-1.595883</td>\n",
              "    </tr>\n",
              "    <tr>\n",
              "      <th>1</th>\n",
              "      <td>0.124691</td>\n",
              "      <td>0.294734</td>\n",
              "      <td>-0.280239</td>\n",
              "      <td>0.148301</td>\n",
              "      <td>0.116156</td>\n",
              "    </tr>\n",
              "    <tr>\n",
              "      <th>2</th>\n",
              "      <td>1.424321</td>\n",
              "      <td>-1.452835</td>\n",
              "      <td>1.202134</td>\n",
              "      <td>1.663524</td>\n",
              "      <td>1.062610</td>\n",
              "    </tr>\n",
              "    <tr>\n",
              "      <th>3</th>\n",
              "      <td>1.153986</td>\n",
              "      <td>1.235733</td>\n",
              "      <td>-0.703774</td>\n",
              "      <td>0.772301</td>\n",
              "      <td>0.527196</td>\n",
              "    </tr>\n",
              "    <tr>\n",
              "      <th>4</th>\n",
              "      <td>0.794444</td>\n",
              "      <td>0.361948</td>\n",
              "      <td>1.413901</td>\n",
              "      <td>-0.716921</td>\n",
              "      <td>0.764150</td>\n",
              "    </tr>\n",
              "  </tbody>\n",
              "</table>\n",
              "</div>\n",
              "    <div class=\"colab-df-buttons\">\n",
              "\n",
              "  <div class=\"colab-df-container\">\n",
              "    <button class=\"colab-df-convert\" onclick=\"convertToInteractive('df-2aba442c-3580-4598-90a4-c5944090c845')\"\n",
              "            title=\"Convert this dataframe to an interactive table.\"\n",
              "            style=\"display:none;\">\n",
              "\n",
              "  <svg xmlns=\"http://www.w3.org/2000/svg\" height=\"24px\" viewBox=\"0 -960 960 960\">\n",
              "    <path d=\"M120-120v-720h720v720H120Zm60-500h600v-160H180v160Zm220 220h160v-160H400v160Zm0 220h160v-160H400v160ZM180-400h160v-160H180v160Zm440 0h160v-160H620v160ZM180-180h160v-160H180v160Zm440 0h160v-160H620v160Z\"/>\n",
              "  </svg>\n",
              "    </button>\n",
              "\n",
              "  <style>\n",
              "    .colab-df-container {\n",
              "      display:flex;\n",
              "      gap: 12px;\n",
              "    }\n",
              "\n",
              "    .colab-df-convert {\n",
              "      background-color: #E8F0FE;\n",
              "      border: none;\n",
              "      border-radius: 50%;\n",
              "      cursor: pointer;\n",
              "      display: none;\n",
              "      fill: #1967D2;\n",
              "      height: 32px;\n",
              "      padding: 0 0 0 0;\n",
              "      width: 32px;\n",
              "    }\n",
              "\n",
              "    .colab-df-convert:hover {\n",
              "      background-color: #E2EBFA;\n",
              "      box-shadow: 0px 1px 2px rgba(60, 64, 67, 0.3), 0px 1px 3px 1px rgba(60, 64, 67, 0.15);\n",
              "      fill: #174EA6;\n",
              "    }\n",
              "\n",
              "    .colab-df-buttons div {\n",
              "      margin-bottom: 4px;\n",
              "    }\n",
              "\n",
              "    [theme=dark] .colab-df-convert {\n",
              "      background-color: #3B4455;\n",
              "      fill: #D2E3FC;\n",
              "    }\n",
              "\n",
              "    [theme=dark] .colab-df-convert:hover {\n",
              "      background-color: #434B5C;\n",
              "      box-shadow: 0px 1px 3px 1px rgba(0, 0, 0, 0.15);\n",
              "      filter: drop-shadow(0px 1px 2px rgba(0, 0, 0, 0.3));\n",
              "      fill: #FFFFFF;\n",
              "    }\n",
              "  </style>\n",
              "\n",
              "    <script>\n",
              "      const buttonEl =\n",
              "        document.querySelector('#df-2aba442c-3580-4598-90a4-c5944090c845 button.colab-df-convert');\n",
              "      buttonEl.style.display =\n",
              "        google.colab.kernel.accessAllowed ? 'block' : 'none';\n",
              "\n",
              "      async function convertToInteractive(key) {\n",
              "        const element = document.querySelector('#df-2aba442c-3580-4598-90a4-c5944090c845');\n",
              "        const dataTable =\n",
              "          await google.colab.kernel.invokeFunction('convertToInteractive',\n",
              "                                                    [key], {});\n",
              "        if (!dataTable) return;\n",
              "\n",
              "        const docLinkHtml = 'Like what you see? Visit the ' +\n",
              "          '<a target=\"_blank\" href=https://colab.research.google.com/notebooks/data_table.ipynb>data table notebook</a>'\n",
              "          + ' to learn more about interactive tables.';\n",
              "        element.innerHTML = '';\n",
              "        dataTable['output_type'] = 'display_data';\n",
              "        await google.colab.output.renderOutput(dataTable, element);\n",
              "        const docLink = document.createElement('div');\n",
              "        docLink.innerHTML = docLinkHtml;\n",
              "        element.appendChild(docLink);\n",
              "      }\n",
              "    </script>\n",
              "  </div>\n",
              "\n",
              "\n",
              "<div id=\"df-eab594e9-1150-479e-a5b6-1e9226c2498f\">\n",
              "  <button class=\"colab-df-quickchart\" onclick=\"quickchart('df-eab594e9-1150-479e-a5b6-1e9226c2498f')\"\n",
              "            title=\"Suggest charts\"\n",
              "            style=\"display:none;\">\n",
              "\n",
              "<svg xmlns=\"http://www.w3.org/2000/svg\" height=\"24px\"viewBox=\"0 0 24 24\"\n",
              "     width=\"24px\">\n",
              "    <g>\n",
              "        <path d=\"M19 3H5c-1.1 0-2 .9-2 2v14c0 1.1.9 2 2 2h14c1.1 0 2-.9 2-2V5c0-1.1-.9-2-2-2zM9 17H7v-7h2v7zm4 0h-2V7h2v10zm4 0h-2v-4h2v4z\"/>\n",
              "    </g>\n",
              "</svg>\n",
              "  </button>\n",
              "\n",
              "<style>\n",
              "  .colab-df-quickchart {\n",
              "      --bg-color: #E8F0FE;\n",
              "      --fill-color: #1967D2;\n",
              "      --hover-bg-color: #E2EBFA;\n",
              "      --hover-fill-color: #174EA6;\n",
              "      --disabled-fill-color: #AAA;\n",
              "      --disabled-bg-color: #DDD;\n",
              "  }\n",
              "\n",
              "  [theme=dark] .colab-df-quickchart {\n",
              "      --bg-color: #3B4455;\n",
              "      --fill-color: #D2E3FC;\n",
              "      --hover-bg-color: #434B5C;\n",
              "      --hover-fill-color: #FFFFFF;\n",
              "      --disabled-bg-color: #3B4455;\n",
              "      --disabled-fill-color: #666;\n",
              "  }\n",
              "\n",
              "  .colab-df-quickchart {\n",
              "    background-color: var(--bg-color);\n",
              "    border: none;\n",
              "    border-radius: 50%;\n",
              "    cursor: pointer;\n",
              "    display: none;\n",
              "    fill: var(--fill-color);\n",
              "    height: 32px;\n",
              "    padding: 0;\n",
              "    width: 32px;\n",
              "  }\n",
              "\n",
              "  .colab-df-quickchart:hover {\n",
              "    background-color: var(--hover-bg-color);\n",
              "    box-shadow: 0 1px 2px rgba(60, 64, 67, 0.3), 0 1px 3px 1px rgba(60, 64, 67, 0.15);\n",
              "    fill: var(--button-hover-fill-color);\n",
              "  }\n",
              "\n",
              "  .colab-df-quickchart-complete:disabled,\n",
              "  .colab-df-quickchart-complete:disabled:hover {\n",
              "    background-color: var(--disabled-bg-color);\n",
              "    fill: var(--disabled-fill-color);\n",
              "    box-shadow: none;\n",
              "  }\n",
              "\n",
              "  .colab-df-spinner {\n",
              "    border: 2px solid var(--fill-color);\n",
              "    border-color: transparent;\n",
              "    border-bottom-color: var(--fill-color);\n",
              "    animation:\n",
              "      spin 1s steps(1) infinite;\n",
              "  }\n",
              "\n",
              "  @keyframes spin {\n",
              "    0% {\n",
              "      border-color: transparent;\n",
              "      border-bottom-color: var(--fill-color);\n",
              "      border-left-color: var(--fill-color);\n",
              "    }\n",
              "    20% {\n",
              "      border-color: transparent;\n",
              "      border-left-color: var(--fill-color);\n",
              "      border-top-color: var(--fill-color);\n",
              "    }\n",
              "    30% {\n",
              "      border-color: transparent;\n",
              "      border-left-color: var(--fill-color);\n",
              "      border-top-color: var(--fill-color);\n",
              "      border-right-color: var(--fill-color);\n",
              "    }\n",
              "    40% {\n",
              "      border-color: transparent;\n",
              "      border-right-color: var(--fill-color);\n",
              "      border-top-color: var(--fill-color);\n",
              "    }\n",
              "    60% {\n",
              "      border-color: transparent;\n",
              "      border-right-color: var(--fill-color);\n",
              "    }\n",
              "    80% {\n",
              "      border-color: transparent;\n",
              "      border-right-color: var(--fill-color);\n",
              "      border-bottom-color: var(--fill-color);\n",
              "    }\n",
              "    90% {\n",
              "      border-color: transparent;\n",
              "      border-bottom-color: var(--fill-color);\n",
              "    }\n",
              "  }\n",
              "</style>\n",
              "\n",
              "  <script>\n",
              "    async function quickchart(key) {\n",
              "      const quickchartButtonEl =\n",
              "        document.querySelector('#' + key + ' button');\n",
              "      quickchartButtonEl.disabled = true;  // To prevent multiple clicks.\n",
              "      quickchartButtonEl.classList.add('colab-df-spinner');\n",
              "      try {\n",
              "        const charts = await google.colab.kernel.invokeFunction(\n",
              "            'suggestCharts', [key], {});\n",
              "      } catch (error) {\n",
              "        console.error('Error during call to suggestCharts:', error);\n",
              "      }\n",
              "      quickchartButtonEl.classList.remove('colab-df-spinner');\n",
              "      quickchartButtonEl.classList.add('colab-df-quickchart-complete');\n",
              "    }\n",
              "    (() => {\n",
              "      let quickchartButtonEl =\n",
              "        document.querySelector('#df-eab594e9-1150-479e-a5b6-1e9226c2498f button');\n",
              "      quickchartButtonEl.style.display =\n",
              "        google.colab.kernel.accessAllowed ? 'block' : 'none';\n",
              "    })();\n",
              "  </script>\n",
              "</div>\n",
              "\n",
              "    </div>\n",
              "  </div>\n"
            ],
            "application/vnd.google.colaboratory.intrinsic+json": {
              "type": "dataframe",
              "variable_name": "df_standardized",
              "summary": "{\n  \"name\": \"df_standardized\",\n  \"rows\": 100,\n  \"fields\": [\n    {\n      \"column\": \"Square Footage\",\n      \"properties\": {\n        \"dtype\": \"number\",\n        \"std\": 1.005037815259212,\n        \"min\": -1.8120722809197332,\n        \"max\": 1.7205308517454228,\n        \"num_unique_values\": 99,\n        \"samples\": [\n          -0.32794355626944344,\n          0.9855400520186259,\n          0.8840912371366186\n        ],\n        \"semantic_type\": \"\",\n        \"description\": \"\"\n      }\n    },\n    {\n      \"column\": \"Number of Occupants\",\n      \"properties\": {\n        \"dtype\": \"number\",\n        \"std\": 1.005037815259212,\n        \"min\": -1.5200488325523305,\n        \"max\": 1.7398392231093114,\n        \"num_unique_values\": 65,\n        \"samples\": [\n          1.7398392231093114,\n          0.5635909556025335,\n          -1.0831566189069557\n        ],\n        \"semantic_type\": \"\",\n        \"description\": \"\"\n      }\n    },\n    {\n      \"column\": \"Appliances Used\",\n      \"properties\": {\n        \"dtype\": \"number\",\n        \"std\": 1.005037815259212,\n        \"min\": -1.8332008795984356,\n        \"max\": 1.5550795293628625,\n        \"num_unique_values\": 45,\n        \"samples\": [\n          0.21388520081568202,\n          1.2727228286160877,\n          -0.4214173758645614\n        ],\n        \"semantic_type\": \"\",\n        \"description\": \"\"\n      }\n    },\n    {\n      \"column\": \"Average Temperature\",\n      \"properties\": {\n        \"dtype\": \"number\",\n        \"std\": 1.0050378152592123,\n        \"min\": -1.681810666226588,\n        \"max\": 1.829635169229714,\n        \"num_unique_values\": 99,\n        \"samples\": [\n          0.801190317380727,\n          -0.38181015124893636,\n          -0.04525446237138843\n        ],\n        \"semantic_type\": \"\",\n        \"description\": \"\"\n      }\n    },\n    {\n      \"column\": \"Energy Consumption\",\n      \"properties\": {\n        \"dtype\": \"number\",\n        \"std\": 1.005037815259212,\n        \"min\": -2.2158836467936047,\n        \"max\": 2.2392705535987174,\n        \"num_unique_values\": 100,\n        \"samples\": [\n          2.067563283632721,\n          -1.3459275080584074,\n          -0.10162924041112342\n        ],\n        \"semantic_type\": \"\",\n        \"description\": \"\"\n      }\n    }\n  ]\n}"
            }
          },
          "metadata": {},
          "execution_count": 9
        }
      ]
    },
    {
      "cell_type": "markdown",
      "source": [
        "## Comparaison visuelle"
      ],
      "metadata": {
        "id": "Y1UwFpY5Qdpz"
      }
    },
    {
      "cell_type": "code",
      "source": [
        "import matplotlib.pyplot as plt\n",
        "\n",
        "# Exemple sur une colonne\n",
        "col = numerical_columns[0]\n",
        "\n",
        "plt.figure(figsize=(15, 4))\n",
        "plt.subplot(1, 3, 1)\n",
        "plt.hist(df_num[col], bins=30, color='blue')\n",
        "plt.title(\"Originale\")\n",
        "\n",
        "plt.subplot(1, 3, 2)\n",
        "plt.hist(df_normalized[col], bins=30, color='green')\n",
        "plt.title(\"Normalisée\")\n",
        "\n",
        "plt.subplot(1, 3, 3)\n",
        "plt.hist(df_standardized[col], bins=30, color='red')\n",
        "plt.title(\"Standardisée\")\n",
        "\n",
        "plt.tight_layout()\n",
        "plt.show()\n"
      ],
      "metadata": {
        "colab": {
          "base_uri": "https://localhost:8080/",
          "height": 192
        },
        "id": "oJOX3L3FQemr",
        "outputId": "9f16eb3f-4187-4f4e-8033-66e3e236e6b8"
      },
      "execution_count": null,
      "outputs": [
        {
          "output_type": "display_data",
          "data": {
            "text/plain": [
              "<Figure size 1500x400 with 3 Axes>"
            ],
            "image/png": "[encoded data removed]"
          },
          "metadata": {}
        }
      ]
    },
    {
      "cell_type": "markdown",
      "source": [
        "#OPERATION 3. ENCODAGE DES VARIABLES CATEGORIELLES"
      ],
      "metadata": {
        "id": "_jSPP4yaQo1T"
      }
    },
    {
      "cell_type": "markdown",
      "source": [
        "## Identifier les variables catégorielles"
      ],
      "metadata": {
        "id": "zl0q_sZRQ5dq"
      }
    },
    {
      "cell_type": "code",
      "source": [
        "# On filtre les colonnes de type object (catégorielles)\n",
        "categorical_cols = df.select_dtypes(include=['object']).columns\n",
        "print(categorical_cols)\n"
      ],
      "metadata": {
        "colab": {
          "base_uri": "https://localhost:8080/"
        },
        "id": "JqSMu7PXTreR",
        "outputId": "18250051-0f6b-4326-976a-67d6bc9802e1"
      },
      "execution_count": null,
      "outputs": [
        {
          "output_type": "stream",
          "name": "stdout",
          "text": [
            "Index(['Building Type', 'Day of Week'], dtype='object')\n"
          ]
        }
      ]
    },
    {
      "cell_type": "markdown",
      "source": [
        "## Encodage par étiquettes (Label Encoding)"
      ],
      "metadata": {
        "id": "5v8yIxoKS8_-"
      }
    },
    {
      "cell_type": "code",
      "source": [
        "# Import des librairies\n",
        "import pandas as pd\n",
        "from sklearn.preprocessing import LabelEncoder # Import LabelEncoder\n",
        "\n",
        "# Charger le dataset depuis ton fichier\n",
        "df = pd.read_csv('/home/TP2_IA/test_energy_data.csv')\n",
        "\n",
        "# ... (Reste de ton code) ...\n",
        "\n",
        "label_encoder = LabelEncoder()\n",
        "\n",
        "# Exemple sur une colonne catégorielle\n",
        "df['Categorie_Label'] = label_encoder.fit_transform(df['Building Type'])\n",
        "\n",
        "# ..."
      ],
      "metadata": {
        "id": "O6zV-WsLTscu"
      },
      "execution_count": null,
      "outputs": []
    },
    {
      "cell_type": "markdown",
      "source": [
        "## Encodage One-Hot (OneHotEncoding)"
      ],
      "metadata": {
        "id": "Dx7gJ636VXaY"
      }
    },
    {
      "cell_type": "code",
      "source": [
        "df_onehot = pd.get_dummies(df, columns=['Building Type'], drop_first=True)\n"
      ],
      "metadata": {
        "id": "cs8oIFfoVZ4Q"
      },
      "execution_count": null,
      "outputs": []
    },
    {
      "cell_type": "markdown",
      "source": [
        "## Encodage Ordinal (OrdinalEncoder)"
      ],
      "metadata": {
        "id": "mk1Aou1BYAki"
      }
    },
    {
      "cell_type": "code",
      "source": [
        "from sklearn.preprocessing import OrdinalEncoder\n",
        "\n",
        "categories = [['Commercial', 'Residential', 'Industrial']] # Include all unique values\n",
        "encoder = OrdinalEncoder(categories=categories)\n",
        "\n",
        "df['Categorie_Ordinale'] = encoder.fit_transform(df[['Building Type']])"
      ],
      "metadata": {
        "id": "NkVVZKIKYCJt"
      },
      "execution_count": null,
      "outputs": []
    },
    {
      "cell_type": "markdown",
      "source": [
        "# OPERATION 4 MISE A L'ECHELLE DES CARACTERISTIQUES"
      ],
      "metadata": {
        "id": "EV1QcK0odToU"
      }
    },
    {
      "cell_type": "markdown",
      "source": [
        "## Sélection des colonnes numériques à mettre à l’échelle"
      ],
      "metadata": {
        "id": "cSS-XTuLeG9P"
      }
    },
    {
      "cell_type": "code",
      "source": [
        "# On sélectionne uniquement les colonnes numériques (int, float)\n",
        "numeric_cols = df.select_dtypes(include=['int64', 'float64']).columns\n",
        "df_numeric = df[numeric_cols]\n",
        "print(numeric_cols)\n"
      ],
      "metadata": {
        "colab": {
          "base_uri": "https://localhost:8080/"
        },
        "id": "iWpbh420dnjE",
        "outputId": "9af89b0a-f555-4156-ca37-cd90103498f2"
      },
      "execution_count": null,
      "outputs": [
        {
          "output_type": "stream",
          "name": "stdout",
          "text": [
            "Index(['Square Footage', 'Number of Occupants', 'Appliances Used',\n",
            "       'Average Temperature', 'Energy Consumption', 'Categorie_Label',\n",
            "       'Categorie_Ordinale'],\n",
            "      dtype='object')\n"
          ]
        }
      ]
    },
    {
      "cell_type": "markdown",
      "source": [
        "## MinMaxScaler"
      ],
      "metadata": {
        "id": "ba8BTjHdeWHl"
      }
    },
    {
      "cell_type": "code",
      "source": [
        "minmax_scaler = MinMaxScaler()\n",
        "df_minmax_scaled = pd.DataFrame(minmax_scaler.fit_transform(df_numeric), columns=numeric_cols)\n"
      ],
      "metadata": {
        "id": "p1hX4WwLeVBg"
      },
      "execution_count": null,
      "outputs": []
    },
    {
      "cell_type": "markdown",
      "source": [
        "## StandardScaler"
      ],
      "metadata": {
        "id": "ygthWBf6esAy"
      }
    },
    {
      "cell_type": "code",
      "source": [
        "standard_scaler = StandardScaler()\n",
        "df_standard_scaled = pd.DataFrame(standard_scaler.fit_transform(df_numeric), columns=numeric_cols)\n"
      ],
      "metadata": {
        "id": "2U7qQzY6et7x"
      },
      "execution_count": null,
      "outputs": []
    },
    {
      "cell_type": "markdown",
      "source": [
        "## RobustScaler"
      ],
      "metadata": {
        "id": "xyge_JExe2WX"
      }
    },
    {
      "cell_type": "code",
      "source": [
        "from sklearn.preprocessing import RobustScaler\n",
        "\n",
        "robust_scaler = RobustScaler()\n",
        "df_robust_scaled = pd.DataFrame(robust_scaler.fit_transform(df_numeric), columns=numeric_cols)"
      ],
      "metadata": {
        "id": "4h9tmQfle3zj"
      },
      "execution_count": null,
      "outputs": []
    },
    {
      "cell_type": "markdown",
      "source": [
        "## Exemple d'affichage comparatif"
      ],
      "metadata": {
        "id": "658G3RgFfZkA"
      }
    },
    {
      "cell_type": "code",
      "source": [
        "# Visualisation des échelles après transformation\n",
        "import matplotlib.pyplot as plt\n",
        "import seaborn as sns\n",
        "\n",
        "# Plot une colonne transformée avec les 3 scalers\n",
        "col = numeric_cols[0]  # par exemple, la première colonne numérique\n",
        "plt.figure(figsize=(12, 4))\n",
        "\n",
        "plt.subplot(1, 3, 1)\n",
        "sns.histplot(df_minmax_scaled[col], kde=True, color='skyblue')\n",
        "plt.title('MinMaxScaler')\n",
        "\n",
        "plt.subplot(1, 3, 2)\n",
        "sns.histplot(df_standard_scaled[col], kde=True, color='salmon')\n",
        "plt.title('StandardScaler')\n",
        "\n",
        "plt.subplot(1, 3, 3)\n",
        "sns.histplot(df_robust_scaled[col], kde=True, color='limegreen')\n",
        "plt.title('RobustScaler')\n",
        "\n",
        "plt.tight_layout()\n",
        "plt.show()\n"
      ],
      "metadata": {
        "colab": {
          "base_uri": "https://localhost:8080/",
          "height": 237
        },
        "id": "P1m8BtWqfcm2",
        "outputId": "dc28fec6-668c-4a25-9fe8-f20ff2ed755f"
      },
      "execution_count": null,
      "outputs": [
        {
          "output_type": "display_data",
          "data": {
            "text/plain": [
              "<Figure size 1200x400 with 3 Axes>"
            ],
            "image/png": "[encoded data removed]"
          },
          "metadata": {}
        }
      ]
    },
    {
      "cell_type": "markdown",
      "source": [],
      "metadata": {
        "id": "An1CntwZfcF9"
      }
    },
    {
      "cell_type": "markdown",
      "source": [
        "# OPERATION 5 REDUCTION DE DIMENSIONS"
      ],
      "metadata": {
        "id": "F0ehKVY3f3Qp"
      }
    },
    {
      "cell_type": "code",
      "source": [],
      "metadata": {
        "id": "mjMLOM6YgAmN"
      },
      "execution_count": null,
      "outputs": []
    },
    {
      "cell_type": "markdown",
      "source": [
        "# Méthodes principales de sélection de caractéristiques\n",
        "#⚙ 1. Sélection par variance (Variance Threshold)"
      ],
      "metadata": {
        "id": "2Nzba_O0gJ9t"
      }
    },
    {
      "cell_type": "code",
      "source": [
        "from sklearn.feature_selection import VarianceThreshold\n",
        "\n",
        "# Par défaut, supprime les features avec variance == 0\n",
        "selector = VarianceThreshold(threshold=0.01)  # tu peux ajuster le seuil\n",
        "df_variance = selector.fit_transform(df_numeric)\n",
        "\n",
        "# Récupérer les colonnes conservées\n",
        "columns_selected = df_numeric.columns[selector.get_support()]\n",
        "df_variance = pd.DataFrame(df_variance, columns=columns_selected)\n",
        "print(columns_selected)\n"
      ],
      "metadata": {
        "colab": {
          "base_uri": "https://localhost:8080/"
        },
        "id": "dFFaZ0VxgQ8s",
        "outputId": "51eb45ac-7d90-4722-93e0-8735bdc29343"
      },
      "execution_count": null,
      "outputs": [
        {
          "output_type": "stream",
          "name": "stdout",
          "text": [
            "Index(['Square Footage', 'Number of Occupants', 'Appliances Used',\n",
            "       'Average Temperature', 'Energy Consumption', 'Categorie_Label',\n",
            "       'Categorie_Ordinale'],\n",
            "      dtype='object')\n"
          ]
        }
      ]
    },
    {
      "cell_type": "markdown",
      "source": [
        "# Sélection univariée (SelectKBest)"
      ],
      "metadata": {
        "id": "CRvKIHVngbj4"
      }
    },
    {
      "cell_type": "code",
      "source": [],
      "metadata": {
        "colab": {
          "base_uri": "https://localhost:8080/"
        },
        "id": "bc3_zIoCgeeo",
        "outputId": "2e25d4d0-6d82-469e-bf8d-a115d8f03d09"
      },
      "execution_count": null,
      "outputs": [
        {
          "output_type": "stream",
          "name": "stdout",
          "text": [
            "Index(['Square Footage', 'Number of Occupants', 'Appliances Used',\n",
            "       'Average Temperature', 'Energy Consumption', 'Categorie_Label',\n",
            "       'Categorie_Ordinale'],\n",
            "      dtype='object')\n"
          ]
        }
      ]
    },
    {
      "cell_type": "code",
      "source": [
        "import pandas as pd\n",
        "from sklearn.feature_selection import SelectKBest, f_regression\n",
        "\n",
        "# Exemple : imaginons une variable cible \"y\"\n",
        "df = pd.read_csv('/home/TP2_IA/test_energy_data.csv', delimiter=',')  # Adjust delimiter if needed\n",
        "y = df['Energy Consumption']  # Using 'Energy Consumption' as target\n",
        "\n",
        "# Sélection des 5 meilleures features\n",
        "selector = SelectKBest(score_func=f_regression, k=5)\n",
        "# En supposant que df est votre DataFrame original\n",
        "X = df.select_dtypes(include=['number']).drop(columns=['Energy Consumption'], errors='ignore')\n",
        "X_selected = selector.fit_transform(X, y)\n",
        "\n",
        "# Créer y (cible)\n",
        "y = df['Energy Consumption']\n",
        "\n",
        "# Appliquer SelectKBest\n",
        "selector = SelectKBest(score_func=f_regression, k=2)\n",
        "X_selected = selector.fit_transform(X, y)\n",
        "\n",
        "# Noms des colonnes sélectionnées\n",
        "cols_selected = X.columns[selector.get_support()]\n",
        "df_selectk = pd.DataFrame(X_selected, columns=cols_selected)\n",
        "print(cols_selected)\n"
      ],
      "metadata": {
        "colab": {
          "base_uri": "https://localhost:8080/"
        },
        "id": "rjW4Vet-kGGo",
        "outputId": "38bc06ed-c475-4317-cdcb-2bdd69f9a177"
      },
      "execution_count": null,
      "outputs": [
        {
          "output_type": "stream",
          "name": "stdout",
          "text": [
            "Index(['Square Footage', 'Number of Occupants'], dtype='object')\n"
          ]
        },
        {
          "output_type": "stream",
          "name": "stderr",
          "text": [
            "/usr/local/lib/python3.11/dist-packages/sklearn/feature_selection/_univariate_selection.py:783: UserWarning: k=5 is greater than n_features=4. All the features will be returned.\n",
            "  warnings.warn(\n"
          ]
        }
      ]
    },
    {
      "cell_type": "markdown",
      "source": [
        "## Sélection par importance des arbres (RandomForest)"
      ],
      "metadata": {
        "id": "V27VK0CLoV1g"
      }
    },
    {
      "cell_type": "code",
      "source": [
        "from sklearn.ensemble import RandomForestRegressor\n",
        "\n",
        "model = RandomForestRegressor(n_estimators=100, random_state=42)\n",
        "model.fit(X, y)\n",
        "\n",
        "# Importance des features\n",
        "importances = model.feature_importances_\n",
        "important_features = pd.Series(importances, index=X.columns).sort_values(ascending=False)\n",
        "\n",
        "# Top 5\n",
        "print(important_features.head(5))\n"
      ],
      "metadata": {
        "colab": {
          "base_uri": "https://localhost:8080/"
        },
        "id": "RM4v44HOoYVy",
        "outputId": "e9fe433f-1a79-472c-a025-3e6663eb4704"
      },
      "execution_count": null,
      "outputs": [
        {
          "output_type": "stream",
          "name": "stdout",
          "text": [
            "Square Footage         0.657866\n",
            "Number of Occupants    0.173777\n",
            "Appliances Used        0.109984\n",
            "Average Temperature    0.058373\n",
            "dtype: float64\n"
          ]
        }
      ]
    },
    {
      "cell_type": "code",
      "source": [
        "import matplotlib.pyplot as plt\n",
        "\n",
        "important_features.head(10).plot(kind='barh', color='skyblue')\n",
        "plt.title(\"Top 10 des variables importantes\")\n",
        "plt.xlabel(\"Importance\")\n",
        "plt.show()\n"
      ],
      "metadata": {
        "colab": {
          "base_uri": "https://localhost:8080/",
          "height": 467
        },
        "id": "ByJGiNVDoj4b",
        "outputId": "672eb35e-177d-4a0d-b5ed-6ce011b2fab0"
      },
      "execution_count": null,
      "outputs": [
        {
          "output_type": "display_data",
          "data": {
            "text/plain": [
              "<Figure size 640x480 with 1 Axes>"
            ],
            "image/png": "[encoded data removed]"
          },
          "metadata": {}
        }
      ]
    },
    {
      "cell_type": "markdown",
      "source": [
        "# OPERATION 6 DETECTION ET SUPPRESSION DES VALEURS ABERRANTES"
      ],
      "metadata": {
        "id": "39hJLxoBo0yb"
      }
    },
    {
      "cell_type": "code",
      "source": [
        "# Exemple sur toutes les colonnes numériques\n",
        "Q1 = df_numeric.quantile(0.25)\n",
        "Q3 = df_numeric.quantile(0.75)\n",
        "IQR = Q3 - Q1\n",
        "\n",
        "# Filtrage\n",
        "df_iqr = df_numeric[~((df_numeric < (Q1 - 1.5 * IQR)) | (df_numeric > (Q3 + 1.5 * IQR))).any(axis=1)]\n",
        "print(f\"Lignes restantes après suppression des outliers : {df_iqr.shape[0]}\")\n"
      ],
      "metadata": {
        "colab": {
          "base_uri": "https://localhost:8080/"
        },
        "id": "TQkPhyhno7KY",
        "outputId": "8ed6fc2a-f003-4d4d-96be-5319d70231e0"
      },
      "execution_count": null,
      "outputs": [
        {
          "output_type": "stream",
          "name": "stdout",
          "text": [
            "Lignes restantes après suppression des outliers : 100\n"
          ]
        }
      ]
    },
    {
      "cell_type": "markdown",
      "source": [
        "## Méthode de l’écart-type"
      ],
      "metadata": {
        "id": "6u1w3fcKpNwS"
      }
    },
    {
      "cell_type": "code",
      "source": [
        "import numpy as np  # Importer NumPy\n",
        "\n",
        "mean = df_numeric.mean()\n",
        "std = df_numeric.std()\n",
        "\n",
        "df_std = df_numeric[(np.abs(df_numeric - mean) <= (3 * std)).all(axis=1)]\n",
        "print(f\"Lignes restantes après détection par écart-type : {df_std.shape[0]}\")"
      ],
      "metadata": {
        "colab": {
          "base_uri": "https://localhost:8080/"
        },
        "id": "Te2UqJECpPWa",
        "outputId": "082cfc6e-aedd-4eef-c31d-9499fa8fc029"
      },
      "execution_count": null,
      "outputs": [
        {
          "output_type": "stream",
          "name": "stdout",
          "text": [
            "Lignes restantes après détection par écart-type : 100\n"
          ]
        }
      ]
    },
    {
      "cell_type": "markdown",
      "source": [
        "## Isolation Forest (détection multivariée)"
      ],
      "metadata": {
        "id": "aib5yI_uprL5"
      }
    },
    {
      "cell_type": "code",
      "source": [
        "from sklearn.ensemble import IsolationForest\n",
        "\n",
        "isf = IsolationForest(contamination=0.01, random_state=42)  # 1% supposé être outliers\n",
        "df_numeric['outlier'] = isf.fit_predict(df_numeric)\n",
        "\n",
        "# -1 = outlier, 1 = normal\n",
        "df_iforest = df_numeric[df_numeric['outlier'] == 1].drop(columns='outlier')\n",
        "print(f\"Lignes normales conservées : {df_iforest.shape[0]}\")\n"
      ],
      "metadata": {
        "colab": {
          "base_uri": "https://localhost:8080/"
        },
        "id": "uguQubiVpsjO",
        "outputId": "6abf884a-dc0a-4a22-c3f3-f35999477501"
      },
      "execution_count": null,
      "outputs": [
        {
          "output_type": "stream",
          "name": "stdout",
          "text": [
            "Lignes normales conservées : 99\n"
          ]
        }
      ]
    },
    {
      "cell_type": "markdown",
      "source": [
        "## Méthode avec Local Outlier Factor (LOF)"
      ],
      "metadata": {
        "id": "preVnahDpxXQ"
      }
    },
    {
      "cell_type": "code",
      "source": [
        "from sklearn.neighbors import LocalOutlierFactor\n",
        "\n",
        "lof = LocalOutlierFactor(n_neighbors=20, contamination=0.01)\n",
        "outliers = lof.fit_predict(df_numeric)\n",
        "\n",
        "df_lof = df_numeric[outliers == 1]\n",
        "print(f\"Lignes normales avec LOF : {df_lof.shape[0]}\")\n"
      ],
      "metadata": {
        "colab": {
          "base_uri": "https://localhost:8080/"
        },
        "id": "qKIdll2Np24O",
        "outputId": "7b95e3f3-a42c-4d89-e19d-99e3144121fb"
      },
      "execution_count": null,
      "outputs": [
        {
          "output_type": "stream",
          "name": "stdout",
          "text": [
            "Lignes normales avec LOF : 99\n"
          ]
        }
      ]
    },
    {
      "cell_type": "markdown",
      "source": [
        "## Visualisation simple des outliers"
      ],
      "metadata": {
        "id": "f4p0qzg4p92l"
      }
    },
    {
      "cell_type": "code",
      "source": [
        "import seaborn as sns\n",
        "import matplotlib.pyplot as plt\n",
        "\n",
        "for col in df_numeric.columns[:5]:  # exemple : les 5 premières colonnes\n",
        "    plt.figure(figsize=(6, 2))\n",
        "    sns.boxplot(data=df_numeric, x=col, color='orange')\n",
        "    plt.title(f\"Boxplot de {col}\")\n",
        "    plt.show()\n"
      ],
      "metadata": {
        "colab": {
          "base_uri": "https://localhost:8080/",
          "height": 1000
        },
        "id": "1_XCqWnUp_LU",
        "outputId": "00f1e867-f723-482d-993a-97a6183d6c13"
      },
      "execution_count": null,
      "outputs": [
        {
          "output_type": "display_data",
          "data": {
            "text/plain": [
              "<Figure size 600x200 with 1 Axes>"
            ],
            "image/png": "[encoded data removed]"
          },
          "metadata": {}
        },
        {
          "output_type": "display_data",
          "data": {
            "text/plain": [
              "<Figure size 600x200 with 1 Axes>"
            ],
            "image/png": "[encoded data removed]"
          },
          "metadata": {}
        },
        {
          "output_type": "display_data",
          "data": {
            "text/plain": [
              "<Figure size 600x200 with 1 Axes>"
            ],
            "image/png": "[encoded data removed]"
          },
          "metadata": {}
        },
        {
          "output_type": "display_data",
          "data": {
            "text/plain": [
              "<Figure size 600x200 with 1 Axes>"
            ],
            "image/png": "[encoded data removed]"
          },
          "metadata": {}
        },
        {
          "output_type": "display_data",
          "data": {
            "text/plain": [
              "<Figure size 600x200 with 1 Axes>"
            ],
            "image/png": "[encoded data removed]"
          },
          "metadata": {}
        }
      ]
    },
    {
      "cell_type": "markdown",
      "source": [
        "# OPERATION 7 DECOUPAGE DES DONNEES"
      ],
      "metadata": {
        "id": "vgqZsXbYqP0k"
      }
    },
    {
      "cell_type": "code",
      "source": [],
      "metadata": {
        "id": "8-BjnNjeqiU_"
      },
      "execution_count": null,
      "outputs": []
    },
    {
      "cell_type": "markdown",
      "source": [
        "## Partie 1 : Séparation Entraînement / Test / Validation\n",
        "## ➤ 1. Entraînement / Test classique (80% - 20%)"
      ],
      "metadata": {
        "id": "Qvm_fb0Yq_Wv"
      }
    },
    {
      "cell_type": "code",
      "source": [
        "from sklearn.model_selection import train_test_split\n",
        "df = pd.read_csv('/home/TP2_IA/test_energy_data.csv')\n",
        "\n",
        "df_clean = df.dropna()\n",
        "# Supposons que df_clean est ton DataFrame prétraité final\n",
        "X = df_clean.drop('Building Type', axis=1)   # Remplace 'target' par la vraie colonne à prédire\n",
        "y = df_clean['Building Type']\n",
        "\n",
        "# Split 80% train / 20% test\n",
        "X_train, X_test, y_train, y_test = train_test_split(X, y, test_size=0.2, random_state=42)\n",
        "\n",
        "print(f\"Train set : {X_train.shape}, Test set : {X_test.shape}\")\n"
      ],
      "metadata": {
        "colab": {
          "base_uri": "https://localhost:8080/"
        },
        "id": "sU6q0EWYrFXv",
        "outputId": "9074fc8d-a99c-460f-d8e3-42116c37a1b6"
      },
      "execution_count": null,
      "outputs": [
        {
          "output_type": "stream",
          "name": "stdout",
          "text": [
            "Train set : (80, 6), Test set : (20, 6)\n"
          ]
        }
      ]
    },
    {
      "cell_type": "markdown",
      "source": [
        "## Entraînement / Validation / Test (60% / 20% / 20%)"
      ],
      "metadata": {
        "id": "uSvJV55S2Bgm"
      }
    },
    {
      "cell_type": "code",
      "source": [
        "# Première étape : 80% / 20%\n",
        "X_temp, X_test, y_temp, y_test = train_test_split(X, y, test_size=0.2, random_state=42)\n",
        "\n",
        "# Deuxième étape : on prend les 80% restants et on les divise en train/val\n",
        "X_train, X_val, y_train, y_val = train_test_split(X_temp, y_temp, test_size=0.25, random_state=42)\n",
        "\n",
        "print(f\"Train : {X_train.shape}, Val : {X_val.shape}, Test : {X_test.shape}\")\n"
      ],
      "metadata": {
        "colab": {
          "base_uri": "https://localhost:8080/"
        },
        "id": "MP9wveKJ2EJ4",
        "outputId": "e3972e50-fb7d-452b-f481-30533c75deb5"
      },
      "execution_count": null,
      "outputs": [
        {
          "output_type": "stream",
          "name": "stdout",
          "text": [
            "Train : (60, 6), Val : (20, 6), Test : (20, 6)\n"
          ]
        }
      ]
    },
    {
      "cell_type": "code",
      "source": [
        "from sklearn.ensemble import RandomForestClassifier\n",
        "from sklearn.model_selection import cross_val_score\n",
        "from sklearn.preprocessing import LabelEncoder\n",
        "\n",
        "# Encodage des étiquettes cibles (Building Type)\n",
        "le = LabelEncoder()\n",
        "y_encoded = le.fit_transform(y)\n",
        "\n",
        "# Encodage one-hot pour 'Day of Week'\n",
        "X = pd.get_dummies(X, columns=['Day of Week'], drop_first=True)\n",
        "\n",
        "# Nettoyage des valeurs infinies et manquantes\n",
        "X = X.replace([np.inf, -np.inf], np.nan)\n",
        "X = X.dropna()\n",
        "y_encoded = y_encoded[X.index]  # réalignement\n",
        "\n",
        "# Modèle de classification\n",
        "model = RandomForestClassifier()\n",
        "\n",
        "# Validation croisée\n",
        "scores = cross_val_score(model, X, y_encoded, cv=5, scoring='accuracy')\n",
        "\n",
        "print(\"Scores (précision par fold) :\", scores)\n",
        "print(\"Score moyen :\", scores.mean())\n"
      ],
      "metadata": {
        "colab": {
          "base_uri": "https://localhost:8080/"
        },
        "id": "mXbygqzYDbCS",
        "outputId": "37708caa-a2a6-4e61-ef3e-adfbfef04abc"
      },
      "execution_count": null,
      "outputs": [
        {
          "output_type": "stream",
          "name": "stdout",
          "text": [
            "Scores (précision par fold) : [0.55 0.4  0.5  0.35 0.55]\n",
            "Score moyen : 0.4700000000000001\n"
          ]
        }
      ]
    }
  ]
}